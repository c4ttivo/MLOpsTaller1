{
 "cells": [
  {
   "cell_type": "code",
   "execution_count": null,
   "metadata": {},
   "outputs": [],
   "source": [
    "import csv\n",
    "import numpy as np\n",
    "import pandas as pd\n",
    "\n",
    "from sklearn.model_selection import train_test_split"
   ]
  },
  {
   "cell_type": "code",
   "execution_count": null,
   "metadata": {},
   "outputs": [],
   "source": [
    "FULL_DATASET = '../covertype.csv'\n",
    "SMALL_DATASET= '../covertype_small.csv'\n",
    "TRAINING_DATASET='../covertype_training.csv'\n",
    "TRAINING_DATASET_WITH_MISSING = '../covertype_training_missing.csv'\n",
    "EVALUATION_DATASET='../covertype_evaluation.csv'\n",
    "EVALUATION_DATASET_WITH_ANOMALIES='../covertype_evaluation_anomalies.csv'\n",
    "SERVING_DATASET='../covertype_serving.csv'\n",
    "\n",
    "ORIGINAL_DATASET_PATH = 'gs://workshop-datasets/covertype/orig/covtype.data'"
   ]
  },
  {
   "cell_type": "code",
   "execution_count": null,
   "metadata": {},
   "outputs": [],
   "source": [
    "df = pd.read_csv(ORIGINAL_DATASET_PATH, header=None)\n",
    "print(df.shape)\n",
    "df.head()"
   ]
  },
  {
   "cell_type": "code",
   "execution_count": null,
   "metadata": {},
   "outputs": [],
   "source": [
    "soil_type = [\n",
    "\"1\", \"C2702\", \"Cathedral family - Rock outcrop complex, extremely stony.\",\n",
    "\"2\", \"C2703\", \"Vanet - Ratake families complex, very stony.\",\n",
    "\"3\", \"C2704\", \"Haploborolis - Rock outcrop complex, rubbly.\",\n",
    "\"4\", \"C2705\", \"Ratake family - Rock outcrop complex, rubbly.\",\n",
    "\"5\", \"C2706\", \"Vanet family - Rock outcrop complex complex, rubbly.\",\n",
    "\"6\", \"C2717\", \"Vanet - Wetmore families - Rock outcrop complex, stony.\",\n",
    "\"7\", \"C3501\", \"Gothic family.\",\n",
    "\"8\", \"C3502\", \"Supervisor - Limber families complex.\",\n",
    "\"9\", \"C4201\", \"Troutville family, very stony.\",\n",
    "\"10\", \"C4703\", \"Bullwark - Catamount families - Rock outcrop complex, rubbly.\",\n",
    "\"11\", \"C4704\", \"Bullwark - Catamount families - Rock land complex, rubbly.\",\n",
    "\"12\", \"C4744\", \"Legault family - Rock land complex, stony.\",\n",
    "\"13\", \"C4758\", \"Catamount family - Rock land - Bullwark family complex, rubbly.\",\n",
    "\"14\", \"C5101\", \"Pachic Argiborolis - Aquolis complex.\",\n",
    "\"15\", \"C5151\", \"unspecified in the USFS Soil and ELU Survey.\",\n",
    "\"16\", \"C6101\", \"Cryaquolis - Cryoborolis complex.\",\n",
    "\"17\", \"C6102\", \"Gateview family - Cryaquolis complex.\",\n",
    "\"18\", \"C6731\", \"Rogert family, very stony.\",\n",
    "\"19\", \"C7101\", \"Typic Cryaquolis - Borohemists complex.\",\n",
    "\"20\", \"C7102\", \"Typic Cryaquepts - Typic Cryaquolls complex.\",\n",
    "\"21\", \"C7103\", \"Typic Cryaquolls - Leighcan family, till substratum complex.\",\n",
    "\"22\", \"C7201\", \"Leighcan family, till substratum, extremely bouldery.\",\n",
    "\"23\", \"C7202\", \"Leighcan family, till substratum - Typic Cryaquolls complex.\",\n",
    "\"24\", \"C7700\", \"Leighcan family, extremely stony.\",\n",
    "\"25\", \"C7701\", \"Leighcan family, warm, extremely stony.\",\n",
    "\"26\", \"C7702\", \"Granile - Catamount families complex, very stony.\",\n",
    "\"27\", \"C7709\", \"Leighcan family, warm - Rock outcrop complex, extremely stony.\",\n",
    "\"28\", \"C7710\", \"Leighcan family - Rock outcrop complex, extremely stony.\",\n",
    "\"29\", \"C7745\", \"Como - Legault families complex, extremely stony.\",\n",
    "\"30\", \"C7746\", \"Como family - Rock land - Legault family complex, extremely stony.\",\n",
    "\"31\", \"C7755\", \"Leighcan - Catamount families complex, extremely stony.\",\n",
    "\"32\", \"C7756\", \"Catamount family - Rock outcrop - Leighcan family complex, extremely stony.\",\n",
    "\"33\", \"C7757\", \"Leighcan - Catamount families - Rock outcrop complex, extremely stony.\",\n",
    "\"34\", \"C7790\", \"Cryorthents - Rock land complex, extremely stony.\",\n",
    "\"35\", \"C8703\", \"Cryumbrepts - Rock outcrop - Cryaquepts complex.\",\n",
    "\"36\", \"C8707\", \"Bross family - Rock land - Cryumbrepts complex, extremely stony.\",\n",
    "\"37\", \"C8708\", \"Rock outcrop - Cryumbrepts - Cryorthents complex, extremely stony.\",\n",
    "\"38\", \"C8771\", \"Leighcan - Moran families - Cryaquolls complex, extremely stony.\",\n",
    "\"39\", \"C8772\", \"Moran family - Cryorthents - Leighcan family complex, extremely stony.\",\n",
    "\"40\", \"C8776\", \"Moran family - Cryorthents - Rock land complex, extremely stony.\",\n",
    "]\n",
    "\n",
    "wilderness_area = [\n",
    "\"Rawah\", \"Rawah Wilderness Area\",\n",
    "\"Neota\", \"Neota Wilderness Area\",\n",
    "\"Commanche\", \"Comanche Peak Wilderness Area\",\n",
    "\"Cache\", \"Cache la Poudre Wilderness Area\"\n",
    "]"
   ]
  },
  {
   "cell_type": "code",
   "execution_count": null,
   "metadata": {},
   "outputs": [],
   "source": [
    "soil = df.loc[:, 14:53].apply(lambda x: soil_type[1::3][x.to_numpy().nonzero()[0][0]], axis=1)\n",
    "soil"
   ]
  },
  {
   "cell_type": "code",
   "execution_count": null,
   "metadata": {},
   "outputs": [],
   "source": [
    "wilderness = df.loc[:, 10:13].apply(lambda x: wilderness_area[0::2][x.to_numpy().nonzero()[0][0]], axis=1)\n",
    "wilderness"
   ]
  },
  {
   "cell_type": "code",
   "execution_count": null,
   "metadata": {},
   "outputs": [],
   "source": [
    "COLUMN_NAMES = [\n",
    "    'Elevation', \n",
    "    'Aspect', \n",
    "    'Slope', \n",
    "    'Horizontal_Distance_To_Hydrology',\n",
    "    'Vertical_Distance_To_Hydrology',\n",
    "    'Horizontal_Distance_To_Roadways',\n",
    "    'Hillshade_9am',\n",
    "    'Hillshade_Noon',\n",
    "    'Hillshade_3pm',\n",
    "    'Horizontal_Distance_To_Fire_Points',\n",
    "    'Wilderness_Area',\n",
    "    'Soil_Type',\n",
    "    'Cover_Type']\n",
    "\n",
    "df_full = pd.concat([df.loc[:, 0:9], wilderness, soil, df.loc[:, 54]], axis=1, ignore_index=True)\n",
    "df_full.columns = COLUMN_NAMES\n",
    "df_full"
   ]
  },
  {
   "cell_type": "code",
   "execution_count": null,
   "metadata": {},
   "outputs": [],
   "source": [
    "\n",
    "df_full['Cover_Type'] = df_full['Cover_Type'] - 1"
   ]
  },
  {
   "cell_type": "code",
   "execution_count": null,
   "metadata": {},
   "outputs": [],
   "source": [
    "df_full.to_csv(FULL_DATASET, header=True, index=False)"
   ]
  },
  {
   "cell_type": "code",
   "execution_count": null,
   "metadata": {},
   "outputs": [],
   "source": [
    "\n",
    "!head $FULL_DATASET"
   ]
  },
  {
   "cell_type": "code",
   "execution_count": null,
   "metadata": {},
   "outputs": [],
   "source": [
    "df_full = df = pd.read_csv(FULL_DATASET, dtype={'Soil_Type': object})\n",
    "df_full"
   ]
  },
  {
   "cell_type": "code",
   "execution_count": null,
   "metadata": {},
   "outputs": [],
   "source": [
    "df_full.Soil_Type.value_counts()"
   ]
  },
  {
   "cell_type": "code",
   "execution_count": null,
   "metadata": {},
   "outputs": [],
   "source": [
    "df_5151 = df_full[df_full['Soil_Type']=='C5151']\n",
    "df_no_5151 = df_full[df_full['Soil_Type']!='C5151']"
   ]
  },
  {
   "cell_type": "code",
   "execution_count": null,
   "metadata": {},
   "outputs": [],
   "source": [
    "df_5151"
   ]
  },
  {
   "cell_type": "code",
   "execution_count": null,
   "metadata": {},
   "outputs": [],
   "source": [
    "df_no_5151"
   ]
  },
  {
   "cell_type": "code",
   "execution_count": null,
   "metadata": {},
   "outputs": [],
   "source": [
    "df_small, df_other = train_test_split(df_no_5151, train_size=100000, stratify=df_no_5151.Cover_Type)"
   ]
  },
  {
   "cell_type": "code",
   "execution_count": null,
   "metadata": {},
   "outputs": [],
   "source": [
    "df_train, df_other = train_test_split(df_no_5151, train_size=431009, stratify=df_no_5151.Cover_Type)\n",
    "df_evaluate, df_serving = train_test_split(df_other, train_size=75000, stratify=df_other.Cover_Type)\n",
    "df_serving = df_serving.drop(columns=['Cover_Type'])\n",
    "print(df_train.shape)\n",
    "print(df_evaluate.shape)\n",
    "print(df_serving.shape)"
   ]
  },
  {
   "cell_type": "code",
   "execution_count": null,
   "metadata": {},
   "outputs": [],
   "source": [
    "df_train_missing = df_train.reset_index(drop=True)\n",
    "df_train_missing.loc[0:8999, 'Horizontal_Distance_To_Hydrology'] = None\n",
    "df_train_missing"
   ]
  },
  {
   "cell_type": "code",
   "execution_count": null,
   "metadata": {},
   "outputs": [],
   "source": [
    "df_evaluate_anomalies = df_evaluate.reset_index(drop=True)\n",
    "df_evaluate_anomalies.loc[0:4, 'Slope'] = 110\n",
    "df_evaluate_anomalies = pd.concat([df_evaluate_anomalies, df_5151])\n",
    "df_evaluate_anomalies"
   ]
  },
  {
   "cell_type": "code",
   "execution_count": null,
   "metadata": {},
   "outputs": [],
   "source": [
    "df_evaluate_anomalies.Soil_Type.value_counts()"
   ]
  },
  {
   "cell_type": "code",
   "execution_count": null,
   "metadata": {},
   "outputs": [],
   "source": [
    "df_train.to_csv(TRAINING_DATASET, header=True, index=False)\n",
    "df_small.to_csv(SMALL_DATASET, header=True, index=False)\n",
    "df_train_missing.to_csv(TRAINING_DATASET_WITH_MISSING, header=True, index=False)\n",
    "df_evaluate.to_csv(EVALUATION_DATASET, header=True, index=False)\n",
    "df_evaluate_anomalies.to_csv(EVALUATION_DATASET_WITH_ANOMALIES, header=True, index=False)\n",
    "df_serving.to_csv(SERVING_DATASET, header=True, index=False)"
   ]
  },
  {
   "cell_type": "code",
   "execution_count": null,
   "metadata": {},
   "outputs": [],
   "source": [
    "!gsutil cp $FULL_DATASET gs://workshop-datasets/covertype/full/dataset.csv\n",
    "!gsutil cp $SMALL_DATASET gs://workshop-datasets/covertype/small/dataset.csv\n",
    "!gsutil cp $TRAINING_DATASET gs://workshop-datasets/covertype/training/dataset.csv\n",
    "!gsutil cp $TRAINING_DATASET_WITH_MISSING gs://workshop-datasets/covertype/training_missing/dataset.csv\n",
    "!gsutil cp $EVALUATION_DATASET gs://workshop-datasets/covertype/evaluation/dataset.csv\n",
    "!gsutil cp $EVALUATION_DATASET_WITH_ANOMALIES gs://workshop-datasets/covertype/evaluation_anomalies/dataset.csv\n",
    "!gsutil cp $SERVING_DATASET gs://workshop-datasets/covertype/serving/dataset.csv"
   ]
  },
  {
   "cell_type": "code",
   "execution_count": null,
   "metadata": {},
   "outputs": [],
   "source": [
    "import os\n",
    "import requests\n",
    "# Directory of the raw data files\n",
    "_data_root = './data/covertype'\n",
    "# Path to the raw training data\n",
    "_data_filepath = os.path.join(_data_root, 'covertype_train.csv'"
   ]
  },
  {
   "cell_type": "code",
   "execution_count": null,
   "metadata": {},
   "outputs": [],
   "source": [
    "# Download data\n",
    "os.makedirs(_data_root, exist_ok=True)\n",
    "if not os.path.isfile(_data_filepath):\n",
    "    #https://archive.ics.uci.edu/ml/machine-learning-databases/covtype/\n",
    "    url = 'https://docs.google.com/uc?export=\\download&confirm={{VALUE}}&id=1lVF1BCWLH4eXXV_YOJzjR7xZjj-wAGj9'\n",
    "    r = requests.get(url, allow_redirects=True, stream=True)\n",
    "    open(_data_filepath, 'wb').write(r.content)"
   ]
  }
 ],
 "metadata": {
  "language_info": {
   "name": "python"
  }
 },
 "nbformat": 4,
 "nbformat_minor": 2
}
